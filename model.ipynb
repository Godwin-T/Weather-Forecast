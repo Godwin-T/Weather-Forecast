{
 "cells": [
  {
   "cell_type": "code",
   "execution_count": 15,
   "metadata": {},
   "outputs": [],
   "source": [
    "import pandas as pd\n",
    "import numpy as np\n",
    "import matplotlib.pyplot as plt\n",
    "import seaborn as sns\n",
    "import xgboost as xgb\n",
    "from imblearn.over_sampling import SMOTE\n",
    "from imblearn.under_sampling import RandomUnderSampler\n",
    "from imblearn.pipeline import Pipeline\n",
    "from sklearn.model_selection import train_test_split\n",
    "from sklearn.feature_extraction import DictVectorizer\n",
    "from sklearn.linear_model import LogisticRegression\n",
    "from sklearn.tree import DecisionTreeClassifier\n",
    "from sklearn.ensemble import RandomForestClassifier\n",
    "from sklearn.preprocessing import StandardScaler\n",
    "from sklearn.metrics import mutual_info_score, accuracy_score\n",
    "from sklearn.metrics import roc_auc_score,confusion_matrix,f1_score\n",
    "from sklearn.metrics import precision_score, recall_score\n",
    "import warnings\n",
    "warnings.filterwarnings('ignore')"
   ]
  },
  {
   "cell_type": "code",
   "execution_count": 16,
   "metadata": {},
   "outputs": [],
   "source": [
    "def load_data(path):\n",
    "    data = pd.read_csv(path)\n",
    "    data.columns = data.columns.str.lower().str.replace(' ', '_')\n",
    "    cat_col = data.dtypes[data.dtypes == 'object'].index.tolist()\n",
    "\n",
    "    for col in cat_col:\n",
    "        data[col] = data[col].str.lower().str.replace(' ', '_')\n",
    "    return data"
   ]
  },
  {
   "cell_type": "code",
   "execution_count": 17,
   "metadata": {},
   "outputs": [
    {
     "data": {
      "text/html": [
       "<div>\n",
       "<style scoped>\n",
       "    .dataframe tbody tr th:only-of-type {\n",
       "        vertical-align: middle;\n",
       "    }\n",
       "\n",
       "    .dataframe tbody tr th {\n",
       "        vertical-align: top;\n",
       "    }\n",
       "\n",
       "    .dataframe thead th {\n",
       "        text-align: right;\n",
       "    }\n",
       "</style>\n",
       "<table border=\"1\" class=\"dataframe\">\n",
       "  <thead>\n",
       "    <tr style=\"text-align: right;\">\n",
       "      <th></th>\n",
       "      <th>date</th>\n",
       "      <th>location</th>\n",
       "      <th>mintemp</th>\n",
       "      <th>maxtemp</th>\n",
       "      <th>rainfall</th>\n",
       "      <th>evaporation</th>\n",
       "      <th>sunshine</th>\n",
       "      <th>windgustdir</th>\n",
       "      <th>windgustspeed</th>\n",
       "      <th>winddir9am</th>\n",
       "      <th>...</th>\n",
       "      <th>humidity9am</th>\n",
       "      <th>humidity3pm</th>\n",
       "      <th>pressure9am</th>\n",
       "      <th>pressure3pm</th>\n",
       "      <th>cloud9am</th>\n",
       "      <th>cloud3pm</th>\n",
       "      <th>temp9am</th>\n",
       "      <th>temp3pm</th>\n",
       "      <th>raintoday</th>\n",
       "      <th>raintomorrow</th>\n",
       "    </tr>\n",
       "  </thead>\n",
       "  <tbody>\n",
       "    <tr>\n",
       "      <th>0</th>\n",
       "      <td>2008-12-01</td>\n",
       "      <td>albury</td>\n",
       "      <td>13.4</td>\n",
       "      <td>22.9</td>\n",
       "      <td>0.6</td>\n",
       "      <td>NaN</td>\n",
       "      <td>NaN</td>\n",
       "      <td>w</td>\n",
       "      <td>44.0</td>\n",
       "      <td>w</td>\n",
       "      <td>...</td>\n",
       "      <td>71.0</td>\n",
       "      <td>22.0</td>\n",
       "      <td>1007.7</td>\n",
       "      <td>1007.1</td>\n",
       "      <td>8.0</td>\n",
       "      <td>NaN</td>\n",
       "      <td>16.9</td>\n",
       "      <td>21.8</td>\n",
       "      <td>no</td>\n",
       "      <td>no</td>\n",
       "    </tr>\n",
       "    <tr>\n",
       "      <th>1</th>\n",
       "      <td>2008-12-02</td>\n",
       "      <td>albury</td>\n",
       "      <td>7.4</td>\n",
       "      <td>25.1</td>\n",
       "      <td>0.0</td>\n",
       "      <td>NaN</td>\n",
       "      <td>NaN</td>\n",
       "      <td>wnw</td>\n",
       "      <td>44.0</td>\n",
       "      <td>nnw</td>\n",
       "      <td>...</td>\n",
       "      <td>44.0</td>\n",
       "      <td>25.0</td>\n",
       "      <td>1010.6</td>\n",
       "      <td>1007.8</td>\n",
       "      <td>NaN</td>\n",
       "      <td>NaN</td>\n",
       "      <td>17.2</td>\n",
       "      <td>24.3</td>\n",
       "      <td>no</td>\n",
       "      <td>no</td>\n",
       "    </tr>\n",
       "    <tr>\n",
       "      <th>2</th>\n",
       "      <td>2008-12-03</td>\n",
       "      <td>albury</td>\n",
       "      <td>12.9</td>\n",
       "      <td>25.7</td>\n",
       "      <td>0.0</td>\n",
       "      <td>NaN</td>\n",
       "      <td>NaN</td>\n",
       "      <td>wsw</td>\n",
       "      <td>46.0</td>\n",
       "      <td>w</td>\n",
       "      <td>...</td>\n",
       "      <td>38.0</td>\n",
       "      <td>30.0</td>\n",
       "      <td>1007.6</td>\n",
       "      <td>1008.7</td>\n",
       "      <td>NaN</td>\n",
       "      <td>2.0</td>\n",
       "      <td>21.0</td>\n",
       "      <td>23.2</td>\n",
       "      <td>no</td>\n",
       "      <td>no</td>\n",
       "    </tr>\n",
       "    <tr>\n",
       "      <th>3</th>\n",
       "      <td>2008-12-04</td>\n",
       "      <td>albury</td>\n",
       "      <td>9.2</td>\n",
       "      <td>28.0</td>\n",
       "      <td>0.0</td>\n",
       "      <td>NaN</td>\n",
       "      <td>NaN</td>\n",
       "      <td>ne</td>\n",
       "      <td>24.0</td>\n",
       "      <td>se</td>\n",
       "      <td>...</td>\n",
       "      <td>45.0</td>\n",
       "      <td>16.0</td>\n",
       "      <td>1017.6</td>\n",
       "      <td>1012.8</td>\n",
       "      <td>NaN</td>\n",
       "      <td>NaN</td>\n",
       "      <td>18.1</td>\n",
       "      <td>26.5</td>\n",
       "      <td>no</td>\n",
       "      <td>no</td>\n",
       "    </tr>\n",
       "    <tr>\n",
       "      <th>4</th>\n",
       "      <td>2008-12-05</td>\n",
       "      <td>albury</td>\n",
       "      <td>17.5</td>\n",
       "      <td>32.3</td>\n",
       "      <td>1.0</td>\n",
       "      <td>NaN</td>\n",
       "      <td>NaN</td>\n",
       "      <td>w</td>\n",
       "      <td>41.0</td>\n",
       "      <td>ene</td>\n",
       "      <td>...</td>\n",
       "      <td>82.0</td>\n",
       "      <td>33.0</td>\n",
       "      <td>1010.8</td>\n",
       "      <td>1006.0</td>\n",
       "      <td>7.0</td>\n",
       "      <td>8.0</td>\n",
       "      <td>17.8</td>\n",
       "      <td>29.7</td>\n",
       "      <td>no</td>\n",
       "      <td>no</td>\n",
       "    </tr>\n",
       "  </tbody>\n",
       "</table>\n",
       "<p>5 rows × 23 columns</p>\n",
       "</div>"
      ],
      "text/plain": [
       "         date location  mintemp  maxtemp  rainfall  evaporation  sunshine  \\\n",
       "0  2008-12-01   albury     13.4     22.9       0.6          NaN       NaN   \n",
       "1  2008-12-02   albury      7.4     25.1       0.0          NaN       NaN   \n",
       "2  2008-12-03   albury     12.9     25.7       0.0          NaN       NaN   \n",
       "3  2008-12-04   albury      9.2     28.0       0.0          NaN       NaN   \n",
       "4  2008-12-05   albury     17.5     32.3       1.0          NaN       NaN   \n",
       "\n",
       "  windgustdir  windgustspeed winddir9am  ... humidity9am  humidity3pm  \\\n",
       "0           w           44.0          w  ...        71.0         22.0   \n",
       "1         wnw           44.0        nnw  ...        44.0         25.0   \n",
       "2         wsw           46.0          w  ...        38.0         30.0   \n",
       "3          ne           24.0         se  ...        45.0         16.0   \n",
       "4           w           41.0        ene  ...        82.0         33.0   \n",
       "\n",
       "   pressure9am  pressure3pm  cloud9am  cloud3pm  temp9am  temp3pm  raintoday  \\\n",
       "0       1007.7       1007.1       8.0       NaN     16.9     21.8         no   \n",
       "1       1010.6       1007.8       NaN       NaN     17.2     24.3         no   \n",
       "2       1007.6       1008.7       NaN       2.0     21.0     23.2         no   \n",
       "3       1017.6       1012.8       NaN       NaN     18.1     26.5         no   \n",
       "4       1010.8       1006.0       7.0       8.0     17.8     29.7         no   \n",
       "\n",
       "   raintomorrow  \n",
       "0            no  \n",
       "1            no  \n",
       "2            no  \n",
       "3            no  \n",
       "4            no  \n",
       "\n",
       "[5 rows x 23 columns]"
      ]
     },
     "execution_count": 17,
     "metadata": {},
     "output_type": "execute_result"
    }
   ],
   "source": [
    "data = load_data('./weatherAUS.csv')\n",
    "data.head()"
   ]
  },
  {
   "cell_type": "code",
   "execution_count": 18,
   "metadata": {},
   "outputs": [],
   "source": [
    "#data.info()"
   ]
  },
  {
   "cell_type": "code",
   "execution_count": 19,
   "metadata": {},
   "outputs": [],
   "source": [
    "#data.iloc[10].to_dict()"
   ]
  },
  {
   "cell_type": "code",
   "execution_count": 20,
   "metadata": {},
   "outputs": [],
   "source": [
    "#(data.isnull().sum()/data.shape[0]) *100"
   ]
  },
  {
   "cell_type": "code",
   "execution_count": 21,
   "metadata": {},
   "outputs": [],
   "source": [
    "data['date'] = pd.to_datetime(data['date'])\n",
    "\n",
    "num_col = data.dtypes[data.dtypes == 'float64'].index.tolist()\n",
    "cat_col = data.dtypes[data.dtypes == 'object'].index.tolist()\n",
    "\n",
    "for col in num_col:\n",
    "        data[col] = data[col].interpolate(method='linear')\n",
    "for col in num_col:\n",
    "        data[col] = data[col].fillna(data[col].mean())\n",
    "\n",
    "for col in cat_col:\n",
    "        data[col] = data[col].fillna(data[col].mode()[0])"
   ]
  },
  {
   "cell_type": "code",
   "execution_count": 22,
   "metadata": {},
   "outputs": [],
   "source": [
    "#data.iloc[10]"
   ]
  },
  {
   "cell_type": "code",
   "execution_count": null,
   "metadata": {},
   "outputs": [],
   "source": []
  },
  {
   "cell_type": "code",
   "execution_count": 23,
   "metadata": {},
   "outputs": [],
   "source": [
    "# plt.figure(figsize =  (16,10))\n",
    "# sns.heatmap(data.corr(), cmap=\"YlGnBu\", annot=True)"
   ]
  },
  {
   "cell_type": "code",
   "execution_count": 24,
   "metadata": {},
   "outputs": [],
   "source": [
    "#Dropping correlating columns\n",
    "corr_col = ['mintemp', 'pressure9am', 'temp3pm']\n",
    "data.drop(corr_col, axis = 1, inplace = True)"
   ]
  },
  {
   "cell_type": "code",
   "execution_count": 25,
   "metadata": {},
   "outputs": [],
   "source": [
    "#(data.isnull().sum()/data.shape[0]) * 100"
   ]
  },
  {
   "cell_type": "code",
   "execution_count": 26,
   "metadata": {},
   "outputs": [],
   "source": [
    "# plt.figure(figsize=(16,15))\n",
    "# row = int((len(num_col)/4) + 1)\n",
    "\n",
    "# for i,col in enumerate(num_col):\n",
    "#     plt.subplot(row, 4, i+1)\n",
    "#     plt.hist(data[col])\n",
    "#     plt.xlabel(col)"
   ]
  },
  {
   "cell_type": "code",
   "execution_count": 27,
   "metadata": {},
   "outputs": [],
   "source": [
    "# plt.figure(figsize=(16,15))\n",
    "# num_col2 = data.dtypes[data.dtypes == 'float64'].index.tolist()\n",
    "# num_col2.remove('mintemp')\n",
    "# num_col2.remove('maxtemp')\n",
    "# num_col2.remove('temp3pm')\n",
    "# num_col2.remove('temp9am')\n",
    "# row = int((len(num_col)/4) + 1)\n",
    "\n",
    "# for i,col in enumerate(num_col2):\n",
    "#     plt.subplot(row, 4, i+1)\n",
    "#     plt.hist(np.log1p(data[col]))\n",
    "#     plt.xlabel(col)"
   ]
  },
  {
   "cell_type": "code",
   "execution_count": 28,
   "metadata": {},
   "outputs": [],
   "source": [
    "df = data.copy()\n",
    "df['evaporation'] = np.log1p(df['evaporation'])\n",
    "df['rainfall'] = np.log1p(df['rainfall'])"
   ]
  },
  {
   "cell_type": "code",
   "execution_count": 29,
   "metadata": {},
   "outputs": [],
   "source": [
    "def split_data(df):\n",
    "        \n",
    "    full_train_df, full_test_df = train_test_split(df, test_size = 0.2, random_state=1)\n",
    "    full_train_df, full_val_df = train_test_split(full_train_df, test_size = 0.25, random_state=1)\n",
    "\n",
    "    train_data = full_train_df.reset_index(drop = True)\n",
    "    test_data = full_test_df.reset_index(drop = True)\n",
    "    val_data = full_val_df.reset_index(drop = True)\n",
    "\n",
    "    y_train = (train_data['raintomorrow'] == 'yes').astype('int')\n",
    "    y_test = (test_data['raintomorrow'] == 'yes').astype('int')\n",
    "    y_val = (val_data['raintomorrow'] == 'yes').astype('int')\n",
    "\n",
    "    del train_data['raintomorrow']\n",
    "    del test_data['raintomorrow']\n",
    "    del val_data['raintomorrow']\n",
    "\n",
    "    return train_data, val_data,test_data, y_train, y_val, y_test,full_train_df"
   ]
  },
  {
   "cell_type": "code",
   "execution_count": 30,
   "metadata": {},
   "outputs": [
    {
     "name": "stdout",
     "output_type": "stream",
     "text": [
      "The global rainfall rate is 0.2201407030569687\n",
      "The rainfall rate if it rains today is 0.4600459002712289\n",
      "The rainfall rate if it does not rain today is 0.15260483965699517\n"
     ]
    }
   ],
   "source": [
    "full_train_df = split_data(df)[-1]\n",
    "\n",
    "full_train = full_train_df.copy()\n",
    "full_train['raintomorrow'] = (full_train['raintomorrow'] == 'yes').astype('int')\n",
    "\n",
    "global_rate = full_train['raintomorrow'].mean()\n",
    "\n",
    "rain_today_rate = full_train[full_train.raintoday == 'yes']['raintomorrow'].mean()\n",
    "norain_today_rate = full_train[full_train.raintoday == 'no']['raintomorrow'].mean()\n",
    "\n",
    "print(f'The global rainfall rate is {global_rate}')\n",
    "print(f'The rainfall rate if it rains today is {rain_today_rate}')\n",
    "print(f'The rainfall rate if it does not rain today is {norain_today_rate}')"
   ]
  },
  {
   "cell_type": "code",
   "execution_count": 13,
   "metadata": {},
   "outputs": [
    {
     "data": {
      "text/plain": [
       "raintoday      0.042166\n",
       "location       0.012949\n",
       "winddir9am     0.006459\n",
       "windgustdir    0.005565\n",
       "winddir3pm     0.004345\n",
       "dtype: float64"
      ]
     },
     "execution_count": 13,
     "metadata": {},
     "output_type": "execute_result"
    }
   ],
   "source": [
    "#Function for mutual information between features and target\n",
    "\n",
    "num_col = full_train.dtypes[full_train.dtypes == 'float64'].index.tolist()\n",
    "cat_col = full_train.dtypes[full_train.dtypes == 'object'].index.tolist()\n",
    "\n",
    "def mutual_info(series):\n",
    "    return mutual_info_score(series, full_train['raintomorrow'])\n",
    "\n",
    "mi = full_train[cat_col].apply(mutual_info)\n",
    "mi.sort_values(ascending = False)"
   ]
  },
  {
   "cell_type": "code",
   "execution_count": 14,
   "metadata": {},
   "outputs": [],
   "source": [
    "# plt.figure(figsize= (16,10))\n",
    "# row = int(len(cat_col)/4) +1\n",
    "\n",
    "# for i,col in enumerate(cat_col):\n",
    "#     plt.subplot(row,4, i+1)\n",
    "#     sns.countplot(x = col, data = train_data, order = train_data[col].value_counts().sort_values(ascending = False).head(10).index)\n",
    "#     plt.ylabel(col)\n",
    "#     plt.xticks(rotation = 45) "
   ]
  },
  {
   "cell_type": "code",
   "execution_count": 15,
   "metadata": {},
   "outputs": [],
   "source": [
    "# data = train_data.groupby(['raintoday'])['raintomorrow'].mean().sort_values(ascending = False).head(10)\n",
    "# sns.barplot(x = data.index, y = data.values)\n",
    "# #plt.ylabel(col)\n",
    "# plt.xticks(rotation = 45) "
   ]
  },
  {
   "cell_type": "code",
   "execution_count": 16,
   "metadata": {},
   "outputs": [],
   "source": [
    "# d = train_data.groupby(['month'])['raintomorrow'].mean()\n",
    "# sns.barplot(x = d.index, y = d.values)"
   ]
  },
  {
   "cell_type": "code",
   "execution_count": 17,
   "metadata": {},
   "outputs": [],
   "source": [
    "#train_data[num_col].corrwith(train_data['raintomorrow']).sort_values(ascending = False)"
   ]
  },
  {
   "cell_type": "code",
   "execution_count": 18,
   "metadata": {},
   "outputs": [],
   "source": [
    "# plt.figure(figsize=(25,20))\n",
    "# row = int(len(num_col)/4) + 1\n",
    "# num_col.remove('date')\n",
    "\n",
    "# for i,col in enumerate(num_col):\n",
    "#     plt.subplot(row,4, i+1)\n",
    "#     #data = train_data.groupby(['location'])[col].mean().sort_values(ascending = False).head(10)\n",
    "#     sns.boxplot(x = 'raintomorrow', y = col, data = train_data)\n",
    "#     plt.ylabel(col)\n",
    "#     plt.xticks(rotation = 45)"
   ]
  },
  {
   "cell_type": "code",
   "execution_count": 19,
   "metadata": {},
   "outputs": [],
   "source": [
    "# plt.figure(figsize=(25,15))\n",
    "# row = int(len(num_col)/4) + 1\n",
    "\n",
    "# for i,col in enumerate(cat_col):\n",
    "#     plt.subplot(row,4, i+1)\n",
    "#     data = train_data.groupby([col])['raintomorrow'].mean().sort_values(ascending = False).head(10)\n",
    "#     sns.barplot(x = data.index, y = data.values)\n",
    "#     plt.ylabel(col)\n",
    "#     plt.xticks(rotation = 45)"
   ]
  },
  {
   "cell_type": "code",
   "execution_count": 20,
   "metadata": {},
   "outputs": [],
   "source": [
    "# plt.figure(figsize =  (16,10))\n",
    "# sns.heatmap(train_data.corr(), cmap=\"YlGnBu\", annot=True)"
   ]
  },
  {
   "cell_type": "code",
   "execution_count": 31,
   "metadata": {},
   "outputs": [],
   "source": [
    "def encoding(train_data, test_data, val_data):\n",
    "    cat_col = train_data.dtypes[train_data.dtypes == 'object'].index.tolist()\n",
    "    num_col = train_data.dtypes[train_data.dtypes == 'float64'].index.tolist()\n",
    "\n",
    "    dv = DictVectorizer(sparse = False)\n",
    "    dv.fit(train_data[cat_col + num_col].to_dict(orient = 'records'))\n",
    "    feature_names = dv.get_feature_names()\n",
    "\n",
    "    X_train = dv.transform(train_data[cat_col + num_col].to_dict(orient = 'records'))\n",
    "    X_test = dv.transform(test_data[cat_col + num_col].to_dict(orient = 'records'))\n",
    "    X_val = dv.transform(val_data[cat_col + num_col].to_dict(orient = 'records'))\n",
    "\n",
    "    return X_train,X_test, X_val"
   ]
  },
  {
   "cell_type": "code",
   "execution_count": 32,
   "metadata": {},
   "outputs": [],
   "source": [
    "def xg_boost(x_train,y_train,x_val,y_val):\n",
    "\n",
    "    dtrain = xgb.DMatrix(x_train, label = y_train)\n",
    "    dval = xgb.DMatrix(x_val, label = y_val)\n",
    "\n",
    "    x_params = {\n",
    "    'eta': 0.3,\n",
    "    'max_depth':6,\n",
    "    'min_child_weight':1,\n",
    "\n",
    "    'objective':'binary:logistic',\n",
    "    'n_threads':5,\n",
    "\n",
    "    'seed':1,\n",
    "    'verbosity':0\n",
    "    }\n",
    "\n",
    "    model = xgb.train(x_params, dtrain = dtrain,num_boost_round = 10)\n",
    "\n",
    "    pred = model.predict(dval)\n",
    "    auc = roc_auc_score(y_val,pred)\n",
    "\n",
    "    out = (pred >= 0.5).astype('int')\n",
    "    acc =  accuracy_score(y_val, out)\n",
    "    precision = precision_score(y_val,out)\n",
    "    recall = recall_score(y_val, out)\n",
    "    f1 = f1_score(y_val, out)\n",
    "\n",
    "    return ['xgb', acc, auc, precision,recall,f1]"
   ]
  },
  {
   "cell_type": "code",
   "execution_count": 33,
   "metadata": {},
   "outputs": [],
   "source": [
    "def base_training(x_train, y_train,x_val, y_val):\n",
    "    \n",
    "    models = [LogisticRegression(), \n",
    "                DecisionTreeClassifier(max_depth = 7, min_samples_leaf = 5),\n",
    "                RandomForestClassifier(n_estimators = 10, max_depth = 10, min_samples_split = 7, min_samples_leaf = 5)]\n",
    "\n",
    "    scores = []\n",
    "    names = ['LogisticRegression', 'DecisionTree', 'RandomForest']\n",
    "    for i,model in enumerate(models):\n",
    "        model.fit(x_train, y_train)\n",
    "        prediction = model.predict(x_val)\n",
    "        acc = accuracy_score(y_val, prediction)\n",
    "        auc = roc_auc_score(y_val, prediction)\n",
    "        precision = precision_score(y_val, prediction)\n",
    "        recall = recall_score(y_val, prediction)\n",
    "        f1 = f1_score(y_val, prediction)\n",
    "\n",
    "        \n",
    "        scores.append([names[i], acc,auc, precision, recall, f1])\n",
    "     \n",
    "    #scores.append(xg_boost(X_train, y_train, X_val,y_val))\n",
    "    output = pd.DataFrame(scores, columns = ['model','accuracy_score', 'auc_score','precision_score', 'recall_score', 'f1_score'])\n",
    "    return output"
   ]
  },
  {
   "cell_type": "code",
   "execution_count": 34,
   "metadata": {},
   "outputs": [
    {
     "data": {
      "text/html": [
       "<div>\n",
       "<style scoped>\n",
       "    .dataframe tbody tr th:only-of-type {\n",
       "        vertical-align: middle;\n",
       "    }\n",
       "\n",
       "    .dataframe tbody tr th {\n",
       "        vertical-align: top;\n",
       "    }\n",
       "\n",
       "    .dataframe thead th {\n",
       "        text-align: right;\n",
       "    }\n",
       "</style>\n",
       "<table border=\"1\" class=\"dataframe\">\n",
       "  <thead>\n",
       "    <tr style=\"text-align: right;\">\n",
       "      <th></th>\n",
       "      <th>model</th>\n",
       "      <th>accuracy_score</th>\n",
       "      <th>auc_score</th>\n",
       "      <th>precision_score</th>\n",
       "      <th>recall_score</th>\n",
       "      <th>f1_score</th>\n",
       "    </tr>\n",
       "  </thead>\n",
       "  <tbody>\n",
       "    <tr>\n",
       "      <th>0</th>\n",
       "      <td>LogisticRegression</td>\n",
       "      <td>0.837344</td>\n",
       "      <td>0.697109</td>\n",
       "      <td>0.698993</td>\n",
       "      <td>0.448135</td>\n",
       "      <td>0.546135</td>\n",
       "    </tr>\n",
       "    <tr>\n",
       "      <th>1</th>\n",
       "      <td>DecisionTree</td>\n",
       "      <td>0.841365</td>\n",
       "      <td>0.694408</td>\n",
       "      <td>0.730504</td>\n",
       "      <td>0.433496</td>\n",
       "      <td>0.544107</td>\n",
       "    </tr>\n",
       "    <tr>\n",
       "      <th>2</th>\n",
       "      <td>RandomForest</td>\n",
       "      <td>0.838581</td>\n",
       "      <td>0.673060</td>\n",
       "      <td>0.762101</td>\n",
       "      <td>0.379191</td>\n",
       "      <td>0.506412</td>\n",
       "    </tr>\n",
       "  </tbody>\n",
       "</table>\n",
       "</div>"
      ],
      "text/plain": [
       "                model  accuracy_score  auc_score  precision_score  \\\n",
       "0  LogisticRegression        0.837344   0.697109         0.698993   \n",
       "1        DecisionTree        0.841365   0.694408         0.730504   \n",
       "2        RandomForest        0.838581   0.673060         0.762101   \n",
       "\n",
       "   recall_score  f1_score  \n",
       "0      0.448135  0.546135  \n",
       "1      0.433496  0.544107  \n",
       "2      0.379191  0.506412  "
      ]
     },
     "execution_count": 34,
     "metadata": {},
     "output_type": "execute_result"
    }
   ],
   "source": [
    "train_data, val_data,test_data, y_train, y_val, y_test = split_data(df)[0:6]\n",
    "X_train,X_test, X_val = encoding(train_data, test_data, val_data)\n",
    "base_training(X_train, y_train, X_val, y_val)"
   ]
  },
  {
   "cell_type": "code",
   "execution_count": 25,
   "metadata": {},
   "outputs": [],
   "source": [
    "#feature engineering\n",
    "df['year'] = pd.DatetimeIndex(df['date']).year\n",
    "df['month'] = pd.DatetimeIndex(df['date']).month\n",
    "df['day'] = pd.DatetimeIndex(df['date']).day\n",
    "df['monthly_bins'] = pd.cut(x = df['month'], bins = [0, 3, 6, 9, 12], labels = ['0 - 3', '3 - 6', '6 - 9', '9 - 12'])\n",
    "df['temp_diff'] = df['maxtemp'] - df['mintemp']\n",
    "\n",
    "train_data, val_data,test_data, y_train, y_val, y_test = split_data(df)[0:6]\n",
    "X_train,X_test, X_val = encoding(train_data, test_data, val_data)\n",
    "#base_training(X_train, y_train, X_val, y_val)"
   ]
  },
  {
   "cell_type": "code",
   "execution_count": 26,
   "metadata": {},
   "outputs": [],
   "source": [
    "# plt.figure(figsize =  (16,10))\n",
    "# sns.heatmap(train_data.corr(), cmap=\"YlGnBu\", annot=True)"
   ]
  },
  {
   "cell_type": "code",
   "execution_count": 27,
   "metadata": {},
   "outputs": [],
   "source": [
    "df.drop(['mintemp', 'date', 'temp3pm','temp_diff', 'maxtemp', 'day'], axis = 1, inplace = True)\n",
    "train_data, val_data,test_data, y_train, y_val, y_test = split_data(df)[0:6]\n",
    "X_train,X_test, X_val = encoding(train_data, test_data, val_data)\n",
    "#base_training(X_train, y_train, X_val, y_val)"
   ]
  },
  {
   "cell_type": "code",
   "execution_count": 28,
   "metadata": {},
   "outputs": [],
   "source": [
    "train_data, val_data,test_data, y_train, y_val, y_test = split_data(df)[0:6]\n",
    "cat_col = train_data.dtypes[train_data.dtypes == 'object'].index.tolist()\n",
    "num_col = train_data.dtypes[train_data.dtypes == 'float64'].index.tolist()\n",
    " \n",
    "\n",
    "scaler = StandardScaler()\n",
    "train_dat = scaler.fit_transform(train_data[num_col])\n",
    "val_dat = scaler.transform(val_data[num_col])\n",
    "test_dat = scaler.transform(test_data[num_col])\n",
    "\n",
    "#base_training(train_dat, y_train, val_dat, y_val)"
   ]
  },
  {
   "cell_type": "code",
   "execution_count": 29,
   "metadata": {},
   "outputs": [],
   "source": [
    "# plt.figure(figsize =  (16,10))\n",
    "# sns.heatmap(train_df.corr(), cmap=\"YlGnBu\", annot=True)"
   ]
  },
  {
   "cell_type": "code",
   "execution_count": 30,
   "metadata": {},
   "outputs": [
    {
     "data": {
      "text/html": [
       "<div>\n",
       "<style scoped>\n",
       "    .dataframe tbody tr th:only-of-type {\n",
       "        vertical-align: middle;\n",
       "    }\n",
       "\n",
       "    .dataframe tbody tr th {\n",
       "        vertical-align: top;\n",
       "    }\n",
       "\n",
       "    .dataframe thead th {\n",
       "        text-align: right;\n",
       "    }\n",
       "</style>\n",
       "<table border=\"1\" class=\"dataframe\">\n",
       "  <thead>\n",
       "    <tr style=\"text-align: right;\">\n",
       "      <th></th>\n",
       "      <th>model</th>\n",
       "      <th>accuracy_score</th>\n",
       "      <th>auc_score</th>\n",
       "      <th>precision_score</th>\n",
       "      <th>recall_score</th>\n",
       "      <th>f1_score</th>\n",
       "    </tr>\n",
       "  </thead>\n",
       "  <tbody>\n",
       "    <tr>\n",
       "      <th>0</th>\n",
       "      <td>LogisticRegression</td>\n",
       "      <td>0.848240</td>\n",
       "      <td>0.720073</td>\n",
       "      <td>0.724306</td>\n",
       "      <td>0.492523</td>\n",
       "      <td>0.586339</td>\n",
       "    </tr>\n",
       "    <tr>\n",
       "      <th>1</th>\n",
       "      <td>DecisionTree</td>\n",
       "      <td>0.841056</td>\n",
       "      <td>0.690807</td>\n",
       "      <td>0.736267</td>\n",
       "      <td>0.424052</td>\n",
       "      <td>0.538154</td>\n",
       "    </tr>\n",
       "    <tr>\n",
       "      <th>2</th>\n",
       "      <td>RandomForest</td>\n",
       "      <td>0.835728</td>\n",
       "      <td>0.663635</td>\n",
       "      <td>0.764449</td>\n",
       "      <td>0.358099</td>\n",
       "      <td>0.487726</td>\n",
       "    </tr>\n",
       "    <tr>\n",
       "      <th>3</th>\n",
       "      <td>xgb</td>\n",
       "      <td>0.848584</td>\n",
       "      <td>0.864443</td>\n",
       "      <td>0.736523</td>\n",
       "      <td>0.477412</td>\n",
       "      <td>0.579314</td>\n",
       "    </tr>\n",
       "  </tbody>\n",
       "</table>\n",
       "</div>"
      ],
      "text/plain": [
       "                model  accuracy_score  auc_score  precision_score  \\\n",
       "0  LogisticRegression        0.848240   0.720073         0.724306   \n",
       "1        DecisionTree        0.841056   0.690807         0.736267   \n",
       "2        RandomForest        0.835728   0.663635         0.764449   \n",
       "3                 xgb        0.848584   0.864443         0.736523   \n",
       "\n",
       "   recall_score  f1_score  \n",
       "0      0.492523  0.586339  \n",
       "1      0.424052  0.538154  \n",
       "2      0.358099  0.487726  \n",
       "3      0.477412  0.579314  "
      ]
     },
     "execution_count": 30,
     "metadata": {},
     "output_type": "execute_result"
    }
   ],
   "source": [
    "train_df = pd.DataFrame(train_dat, columns = num_col)\n",
    "val_df = pd.DataFrame(val_dat, columns = num_col)\n",
    "test_df = pd.DataFrame(test_dat, columns = num_col)\n",
    "\n",
    "train_df = pd.concat([train_df, train_data[cat_col]], axis = 1)\n",
    "val_df = pd.concat([val_df, val_data[cat_col]], axis = 1)\n",
    "test_df = pd.concat([test_df, test_data[cat_col]], axis = 1)\n",
    "\n",
    "train_df.drop(['pressure9am'], axis = 1, inplace = True)\n",
    "val_df.drop(['pressure9am'], axis = 1, inplace = True)\n",
    "test_df.drop(['pressure9am'], axis = 1, inplace = True)\n",
    "\n",
    "X_train,X_test, X_val = encoding(train_df, test_df, val_df)\n",
    "base_training(X_train, y_train, X_val, y_val)"
   ]
  },
  {
   "cell_type": "code",
   "execution_count": 31,
   "metadata": {},
   "outputs": [
    {
     "data": {
      "text/html": [
       "<div>\n",
       "<style scoped>\n",
       "    .dataframe tbody tr th:only-of-type {\n",
       "        vertical-align: middle;\n",
       "    }\n",
       "\n",
       "    .dataframe tbody tr th {\n",
       "        vertical-align: top;\n",
       "    }\n",
       "\n",
       "    .dataframe thead th {\n",
       "        text-align: right;\n",
       "    }\n",
       "</style>\n",
       "<table border=\"1\" class=\"dataframe\">\n",
       "  <thead>\n",
       "    <tr style=\"text-align: right;\">\n",
       "      <th></th>\n",
       "      <th>model</th>\n",
       "      <th>accuracy_score</th>\n",
       "      <th>auc_score</th>\n",
       "      <th>precision_score</th>\n",
       "      <th>recall_score</th>\n",
       "      <th>f1_score</th>\n",
       "    </tr>\n",
       "  </thead>\n",
       "  <tbody>\n",
       "    <tr>\n",
       "      <th>0</th>\n",
       "      <td>LogisticRegression</td>\n",
       "      <td>0.848137</td>\n",
       "      <td>0.724601</td>\n",
       "      <td>0.715719</td>\n",
       "      <td>0.505273</td>\n",
       "      <td>0.592360</td>\n",
       "    </tr>\n",
       "    <tr>\n",
       "      <th>1</th>\n",
       "      <td>DecisionTree</td>\n",
       "      <td>0.840472</td>\n",
       "      <td>0.707050</td>\n",
       "      <td>0.700845</td>\n",
       "      <td>0.470172</td>\n",
       "      <td>0.562789</td>\n",
       "    </tr>\n",
       "    <tr>\n",
       "      <th>2</th>\n",
       "      <td>RandomForest</td>\n",
       "      <td>0.836519</td>\n",
       "      <td>0.667657</td>\n",
       "      <td>0.759506</td>\n",
       "      <td>0.367858</td>\n",
       "      <td>0.495652</td>\n",
       "    </tr>\n",
       "    <tr>\n",
       "      <th>3</th>\n",
       "      <td>xgb</td>\n",
       "      <td>0.848068</td>\n",
       "      <td>0.864770</td>\n",
       "      <td>0.727894</td>\n",
       "      <td>0.485912</td>\n",
       "      <td>0.582783</td>\n",
       "    </tr>\n",
       "  </tbody>\n",
       "</table>\n",
       "</div>"
      ],
      "text/plain": [
       "                model  accuracy_score  auc_score  precision_score  \\\n",
       "0  LogisticRegression        0.848137   0.724601         0.715719   \n",
       "1        DecisionTree        0.840472   0.707050         0.700845   \n",
       "2        RandomForest        0.836519   0.667657         0.759506   \n",
       "3                 xgb        0.848068   0.864770         0.727894   \n",
       "\n",
       "   recall_score  f1_score  \n",
       "0      0.505273  0.592360  \n",
       "1      0.470172  0.562789  \n",
       "2      0.367858  0.495652  \n",
       "3      0.485912  0.582783  "
      ]
     },
     "execution_count": 31,
     "metadata": {},
     "output_type": "execute_result"
    }
   ],
   "source": [
    "undersample = RandomUnderSampler(sampling_strategy=0.3)\n",
    "\n",
    "y = y_train.copy()\n",
    "X_train, y = undersample.fit_resample(X_train, y)\n",
    "\n",
    "base_training(X_train, y, X_val, y_val)"
   ]
  },
  {
   "cell_type": "code",
   "execution_count": 32,
   "metadata": {},
   "outputs": [
    {
     "data": {
      "text/html": [
       "<div>\n",
       "<style scoped>\n",
       "    .dataframe tbody tr th:only-of-type {\n",
       "        vertical-align: middle;\n",
       "    }\n",
       "\n",
       "    .dataframe tbody tr th {\n",
       "        vertical-align: top;\n",
       "    }\n",
       "\n",
       "    .dataframe thead th {\n",
       "        text-align: right;\n",
       "    }\n",
       "</style>\n",
       "<table border=\"1\" class=\"dataframe\">\n",
       "  <thead>\n",
       "    <tr style=\"text-align: right;\">\n",
       "      <th></th>\n",
       "      <th>model</th>\n",
       "      <th>accuracy_score</th>\n",
       "      <th>auc_score</th>\n",
       "      <th>precision_score</th>\n",
       "      <th>recall_score</th>\n",
       "      <th>f1_score</th>\n",
       "    </tr>\n",
       "  </thead>\n",
       "  <tbody>\n",
       "    <tr>\n",
       "      <th>0</th>\n",
       "      <td>LogisticRegression</td>\n",
       "      <td>0.789633</td>\n",
       "      <td>0.780755</td>\n",
       "      <td>0.512280</td>\n",
       "      <td>0.764993</td>\n",
       "      <td>0.613636</td>\n",
       "    </tr>\n",
       "    <tr>\n",
       "      <th>1</th>\n",
       "      <td>DecisionTree</td>\n",
       "      <td>0.790664</td>\n",
       "      <td>0.744323</td>\n",
       "      <td>0.516137</td>\n",
       "      <td>0.662049</td>\n",
       "      <td>0.580058</td>\n",
       "    </tr>\n",
       "    <tr>\n",
       "      <th>2</th>\n",
       "      <td>RandomForest</td>\n",
       "      <td>0.797436</td>\n",
       "      <td>0.757730</td>\n",
       "      <td>0.527805</td>\n",
       "      <td>0.687234</td>\n",
       "      <td>0.597060</td>\n",
       "    </tr>\n",
       "    <tr>\n",
       "      <th>3</th>\n",
       "      <td>xgb</td>\n",
       "      <td>0.811701</td>\n",
       "      <td>0.855460</td>\n",
       "      <td>0.556054</td>\n",
       "      <td>0.683142</td>\n",
       "      <td>0.613081</td>\n",
       "    </tr>\n",
       "  </tbody>\n",
       "</table>\n",
       "</div>"
      ],
      "text/plain": [
       "                model  accuracy_score  auc_score  precision_score  \\\n",
       "0  LogisticRegression        0.789633   0.780755         0.512280   \n",
       "1        DecisionTree        0.790664   0.744323         0.516137   \n",
       "2        RandomForest        0.797436   0.757730         0.527805   \n",
       "3                 xgb        0.811701   0.855460         0.556054   \n",
       "\n",
       "   recall_score  f1_score  \n",
       "0      0.764993  0.613636  \n",
       "1      0.662049  0.580058  \n",
       "2      0.687234  0.597060  \n",
       "3      0.683142  0.613081  "
      ]
     },
     "execution_count": 32,
     "metadata": {},
     "output_type": "execute_result"
    }
   ],
   "source": [
    "oversample = SMOTE()\n",
    "X_train,X_test, X_val = encoding(train_df, test_df, val_df)\n",
    "y = y_train.copy()\n",
    "X_train, y = oversample.fit_resample(X_train, y)\n",
    "\n",
    "base_training(X_train, y, X_val, y_val)"
   ]
  },
  {
   "cell_type": "code",
   "execution_count": 33,
   "metadata": {},
   "outputs": [],
   "source": [
    "dtrain = xgb.DMatrix(X_train, label = y)\n",
    "dval = xgb.DMatrix(X_val, label = y_val)\n",
    "\n",
    "\n",
    "scores = []\n",
    "eta = [0.1,0.3,0.5,0.7,0.9]\n",
    "for i in eta:\n",
    "    x_params = {\n",
    "    'eta': i,\n",
    "    'max_depth':6,\n",
    "    'min_child_weight':1,\n",
    "\n",
    "    'objective':'binary:logistic',\n",
    "    'n_threads':5,\n",
    "\n",
    "    'seed':1,\n",
    "    'verbosity':0\n",
    "    }\n",
    "\n",
    "    model = xgb.train(x_params, dtrain = dtrain,num_boost_round = 10)\n",
    "\n",
    "    pred = model.predict(dval)\n",
    "    #auc = roc_auc_score(y_val,pred)\n",
    "\n",
    "    out = (pred >= 0.5).astype('int')\n",
    "    #acc =  accuracy_score(y_val, out)\n",
    "    precision = precision_score(y_val,out)\n",
    "    recall = recall_score(y_val, out)\n",
    "    f1 = f1_score(y_val, out)\n",
    "    scores.append([i, precision,recall,f1])\n",
    "\n",
    "out = pd.DataFrame(scores, columns = ['eta','precision_score', 'recall_score', 'f1_score'])"
   ]
  },
  {
   "cell_type": "code",
   "execution_count": 34,
   "metadata": {},
   "outputs": [
    {
     "data": {
      "text/plain": [
       "<matplotlib.legend.Legend at 0x222bb8f4c40>"
      ]
     },
     "execution_count": 34,
     "metadata": {},
     "output_type": "execute_result"
    },
    {
     "data": {
      "image/png": "[encoded data removed]",
      "text/plain": [
       "<Figure size 640x480 with 1 Axes>"
      ]
     },
     "metadata": {},
     "output_type": "display_data"
    }
   ],
   "source": [
    "plt.plot(out['eta'], out['precision_score'], label = 'Precison')\n",
    "plt.plot(out['eta'], out['recall_score'], label = 'recall')\n",
    "plt.plot(out['eta'], out['f1_score'], label = 'f1')\n",
    "\n",
    "plt.legend()"
   ]
  },
  {
   "cell_type": "code",
   "execution_count": 35,
   "metadata": {},
   "outputs": [],
   "source": [
    "scores = []\n",
    "round = np.arange(10, 200, 10)\n",
    "\n",
    "for i in round:\n",
    "    x_params = {\n",
    "    'eta': 0.3,\n",
    "    'max_depth':6,\n",
    "    'min_child_weight':1,\n",
    "\n",
    "    'objective':'binary:logistic',\n",
    "    'n_threads':5,\n",
    "\n",
    "    'seed':1,\n",
    "    'verbosity':0\n",
    "    }\n",
    "\n",
    "    model = xgb.train(x_params, dtrain = dtrain,num_boost_round = i)\n",
    "\n",
    "    pred = model.predict(dval)\n",
    "    #auc = roc_auc_score(y_val,pred)\n",
    "\n",
    "    out = (pred >= 0.5).astype('int')\n",
    "    #acc =  accuracy_score(y_val, out)\n",
    "    precision = precision_score(y_val,out)\n",
    "    recall = recall_score(y_val, out)\n",
    "    f1 = f1_score(y_val, out)\n",
    "    scores.append([i, precision,recall,f1])\n",
    "\n",
    "out = pd.DataFrame(scores, columns = ['boost_round','precision_score', 'recall_score', 'f1_score'])"
   ]
  },
  {
   "cell_type": "code",
   "execution_count": 36,
   "metadata": {},
   "outputs": [
    {
     "data": {
      "text/plain": [
       "<matplotlib.legend.Legend at 0x222b3073430>"
      ]
     },
     "execution_count": 36,
     "metadata": {},
     "output_type": "execute_result"
    },
    {
     "data": {
      "image/png": "[encoded data removed]",
      "text/plain": [
       "<Figure size 640x480 with 1 Axes>"
      ]
     },
     "metadata": {},
     "output_type": "display_data"
    }
   ],
   "source": [
    "plt.plot(out['boost_round'], out['precision_score'], label = 'Precison')\n",
    "plt.plot(out['boost_round'], out['recall_score'], label = 'recall')\n",
    "plt.plot(out['boost_round'], out['f1_score'], label = 'f1')\n",
    "\n",
    "plt.legend()"
   ]
  },
  {
   "cell_type": "code",
   "execution_count": 37,
   "metadata": {},
   "outputs": [],
   "source": [
    "%%capture table\n",
    "watchlist = [(dtrain,'train'), (dval, 'validation')]\n",
    "\n",
    "x_params = {\n",
    "    'eta': 0.3,\n",
    "    'max_depth':6,\n",
    "    'min_child_weight':1,\n",
    "\n",
    "    'objective':'binary:logistic',\n",
    "    'eval_metric' : 'aucpr',\n",
    "    \n",
    "    'n_threads':8,\n",
    "    'seed':1,\n",
    "    'verbosity':0\n",
    "}\n",
    "\n",
    "model = xgb.train(x_params, dtrain = dtrain,evals = watchlist, verbose_eval = 5,num_boost_round = 200)"
   ]
  },
  {
   "cell_type": "code",
   "execution_count": 38,
   "metadata": {},
   "outputs": [
    {
     "data": {
      "text/plain": [
       "[<matplotlib.lines.Line2D at 0x222b86934c0>]"
      ]
     },
     "execution_count": 38,
     "metadata": {},
     "output_type": "execute_result"
    },
    {
     "data": {
      "image/png": "[encoded data removed]",
      "text/plain": [
       "<Figure size 640x480 with 1 Axes>"
      ]
     },
     "metadata": {},
     "output_type": "display_data"
    }
   ],
   "source": [
    "def parse_xgb_output():\n",
    "\n",
    "    no_itrs = []\n",
    "    train_score = []\n",
    "    val_score = []\n",
    "\n",
    "    for i in table.stdout.strip().split('\\n'):\n",
    "\n",
    "        no_itr, train_auc, val_auc = i.split('\\t')\n",
    "\n",
    "        no_itr = int(no_itr.strip('[]'))\n",
    "        train_auc = float(train_auc.split(':')[1])\n",
    "        val_auc = float(val_auc.split(':')[1])\n",
    "\n",
    "        no_itrs.append(no_itr)\n",
    "        train_score.append(train_auc)\n",
    "        val_score.append(val_auc)\n",
    "\n",
    "    dicts = {'iter':no_itrs, 'train_score':train_score, 'val_score':val_score}\n",
    "    output = pd.DataFrame(dicts)\n",
    "    return output\n",
    "\n",
    "output = parse_xgb_output()\n",
    "    \n",
    "plt.plot(output.iter, output.val_score)"
   ]
  },
  {
   "cell_type": "code",
   "execution_count": 39,
   "metadata": {},
   "outputs": [
    {
     "data": {
      "text/plain": [
       "<matplotlib.legend.Legend at 0x222b2df3520>"
      ]
     },
     "execution_count": 39,
     "metadata": {},
     "output_type": "execute_result"
    },
    {
     "data": {
      "image/png": "[encoded data removed]",
      "text/plain": [
       "<Figure size 640x480 with 1 Axes>"
      ]
     },
     "metadata": {},
     "output_type": "display_data"
    }
   ],
   "source": [
    "plt.plot(output.iter, output.val_score, label = 'val')\n",
    "plt.plot(output.iter, output.train_score, label = 'train')\n",
    "\n",
    "plt.legend()"
   ]
  },
  {
   "cell_type": "code",
   "execution_count": 40,
   "metadata": {},
   "outputs": [],
   "source": [
    "%%capture table\n",
    "watchlist = [(dtrain,'train'), (dval, 'validation')]\n",
    "\n",
    "x_params = {\n",
    "    'eta': 0.3,\n",
    "    'max_depth':6,\n",
    "    'min_child_weight':1,\n",
    "\n",
    "    'objective':'binary:logistic',\n",
    "    'eval_metric' : 'map',\n",
    "    \n",
    "    'n_threads':8,\n",
    "    'seed':1,\n",
    "    'verbosity':0\n",
    "}\n",
    "\n",
    "model = xgb.train(x_params, dtrain = dtrain,evals = watchlist, verbose_eval = 5,num_boost_round = 200)"
   ]
  },
  {
   "cell_type": "code",
   "execution_count": 41,
   "metadata": {},
   "outputs": [
    {
     "data": {
      "text/plain": [
       "[<matplotlib.lines.Line2D at 0x222b869f0d0>]"
      ]
     },
     "execution_count": 41,
     "metadata": {},
     "output_type": "execute_result"
    },
    {
     "data": {
      "image/png": "[encoded data removed]",
      "text/plain": [
       "<Figure size 640x480 with 1 Axes>"
      ]
     },
     "metadata": {},
     "output_type": "display_data"
    }
   ],
   "source": [
    "def parse_xgb_output():\n",
    "\n",
    "    no_itrs = []\n",
    "    train_score = []\n",
    "    val_score = []\n",
    "\n",
    "    for i in table.stdout.strip().split('\\n'):\n",
    "\n",
    "        no_itr, train_auc, val_auc = i.split('\\t')\n",
    "\n",
    "        no_itr = int(no_itr.strip('[]'))\n",
    "        train_auc = float(train_auc.split(':')[1])\n",
    "        val_auc = float(val_auc.split(':')[1])\n",
    "\n",
    "        no_itrs.append(no_itr)\n",
    "        train_score.append(train_auc)\n",
    "        val_score.append(val_auc)\n",
    "\n",
    "    dicts = {'iter':no_itrs, 'train_score':train_score, 'val_score':val_score}\n",
    "    output = pd.DataFrame(dicts)\n",
    "    return output\n",
    "\n",
    "output = parse_xgb_output()\n",
    "    \n",
    "plt.plot(output.iter, output.val_score)"
   ]
  },
  {
   "cell_type": "code",
   "execution_count": 42,
   "metadata": {},
   "outputs": [
    {
     "data": {
      "text/plain": [
       "<matplotlib.legend.Legend at 0x222aa588e20>"
      ]
     },
     "execution_count": 42,
     "metadata": {},
     "output_type": "execute_result"
    },
    {
     "data": {
      "image/png": "[encoded data removed]",
      "text/plain": [
       "<Figure size 640x480 with 1 Axes>"
      ]
     },
     "metadata": {},
     "output_type": "display_data"
    }
   ],
   "source": [
    "plt.plot(output.iter, output.val_score, label = 'val')\n",
    "plt.plot(output.iter, output.train_score, label = 'train')\n",
    "\n",
    "plt.legend()"
   ]
  },
  {
   "cell_type": "code",
   "execution_count": 43,
   "metadata": {},
   "outputs": [],
   "source": [
    "x_params = {\n",
    "    'eta': 0.3,\n",
    "    'max_depth':6,\n",
    "    'min_child_weight':1,\n",
    "\n",
    "    'objective':'binary:logistic',\n",
    "    'eval_metric' : 'map',\n",
    "    \n",
    "    'n_threads':8,\n",
    "    'seed':1,\n",
    "    'verbosity':0\n",
    "}\n",
    "\n",
    "model = xgb.train(x_params, dtrain = dtrain,num_boost_round = 25)"
   ]
  },
  {
   "cell_type": "code",
   "execution_count": 44,
   "metadata": {},
   "outputs": [
    {
     "name": "stdout",
     "output_type": "stream",
     "text": [
      "0.618131445282438 0.6321422949787502 0.6250583657587547\n"
     ]
    }
   ],
   "source": [
    "pred = model.predict(dval)\n",
    "out = (pred >= 0.5).astype('int')\n",
    "#acc =  accuracy_score(y_val, out)\n",
    "precision = precision_score(y_val,out)\n",
    "recall = recall_score(y_val, out)\n",
    "f1 = f1_score(y_val, out)\n",
    "\n",
    "print(precision, recall, f1)"
   ]
  },
  {
   "cell_type": "code",
   "execution_count": 31,
   "metadata": {},
   "outputs": [],
   "source": [
    "def encoding(train_data, test_data):\n",
    "    cat_col = train_data.dtypes[train_data.dtypes == 'object'].index.tolist()\n",
    "    num_col = train_data.dtypes[train_data.dtypes == 'float64'].index.tolist()\n",
    "\n",
    "    dv = DictVectorizer(sparse = False)\n",
    "    dv.fit(train_data[cat_col + num_col].to_dict(orient = 'records'))\n",
    "    feature_names = dv.get_feature_names()\n",
    "\n",
    "    X_train = dv.transform(train_data[cat_col + num_col].to_dict(orient = 'records'))\n",
    "    X_test = dv.transform(test_data[cat_col + num_col].to_dict(orient = 'records'))\n",
    "\n",
    "    return X_train,X_test"
   ]
  },
  {
   "cell_type": "code",
   "execution_count": 39,
   "metadata": {},
   "outputs": [],
   "source": [
    "train_data, val_data,test_data, y_train, y_val, y_test = split_data(df)[0:6]\n",
    "cat_col = train_data.dtypes[train_data.dtypes == 'object'].index.tolist()\n",
    "num_col = train_data.dtypes[train_data.dtypes == 'float64'].index.tolist()\n",
    " \n",
    "\n",
    "scaler = StandardScaler()\n",
    "train_dat = scaler.fit_transform(train_data[num_col])\n",
    "test_dat = scaler.transform(test_data[num_col])\n",
    "val_dat = scaler.transform(val_data[num_col])"
   ]
  },
  {
   "cell_type": "code",
   "execution_count": 40,
   "metadata": {},
   "outputs": [],
   "source": [
    "train_df = pd.DataFrame(train_dat, columns = num_col)\n",
    "val_df = pd.DataFrame(val_dat, columns = num_col)\n",
    "test_df = pd.DataFrame(test_dat, columns = num_col)\n",
    "\n",
    "train_df = pd.concat([train_df, train_data[cat_col]], axis = 1)\n",
    "val_df = pd.concat([val_df, val_data[cat_col]], axis = 1)\n",
    "test_df = pd.concat([test_df, test_data[cat_col]], axis = 1)\n",
    "\n",
    "train_df.drop(['pressure9am'], axis = 1, inplace = True)\n",
    "val_df.drop(['pressure9am'], axis = 1, inplace = True)\n",
    "test_df.drop(['pressure9am'], axis = 1, inplace = True)\n",
    "\n",
    "full_train_data = pd.concat([train_df, val_df])\n",
    "full_y_train = pd.concat([y_train, y_val])"
   ]
  },
  {
   "cell_type": "code",
   "execution_count": 41,
   "metadata": {},
   "outputs": [],
   "source": [
    "oversample = SMOTE()\n",
    "X_train,X_test = encoding(full_train_data, test_df)\n",
    "y = full_y_train.copy()\n",
    "X_train, y = oversample.fit_resample(X_train, y)"
   ]
  },
  {
   "cell_type": "code",
   "execution_count": 42,
   "metadata": {},
   "outputs": [],
   "source": [
    "dtrain = xgb.DMatrix(X_train, label = y)\n",
    "dtest = xgb.DMatrix(X_test)\n",
    "\n",
    "x_params = {\n",
    "    'eta': 0.3,\n",
    "    'max_depth':6,\n",
    "    'min_child_weight':1,\n",
    "\n",
    "    'objective':'binary:logistic',\n",
    "    'eval_metric' : 'map',\n",
    "    \n",
    "    'n_threads':8,\n",
    "    'seed':1,\n",
    "    'verbosity':0\n",
    "}\n",
    "\n",
    "model = xgb.train(x_params, dtrain = dtrain,num_boost_round = 25)"
   ]
  },
  {
   "cell_type": "code",
   "execution_count": 101,
   "metadata": {},
   "outputs": [
    {
     "name": "stdout",
     "output_type": "stream",
     "text": [
      "0.6006532066508313 0.6411028363175408 0.620219207480647\n"
     ]
    }
   ],
   "source": [
    "pred = model.predict(dtest)\n",
    "out = (pred >= 0.5).astype('int')\n",
    "precision = precision_score(y_test,out)\n",
    "recall = recall_score(y_test, out)\n",
    "f1 = f1_score(y_test, out)\n",
    "\n",
    "print(precision, recall, f1)"
   ]
  },
  {
   "cell_type": "code",
   "execution_count": null,
   "metadata": {},
   "outputs": [],
   "source": []
  },
  {
   "cell_type": "code",
   "execution_count": 102,
   "metadata": {},
   "outputs": [
    {
     "name": "stdout",
     "output_type": "stream",
     "text": [
      "0.606087869245764 0.6404690223419427 0.622804314329738\n"
     ]
    }
   ],
   "source": [
    "#Loading Data\n",
    "def load_data(path):\n",
    "    data = pd.read_csv(path)\n",
    "    data.columns = data.columns.str.lower().str.replace(' ', '_')\n",
    "    cat_col = data.dtypes[data.dtypes == 'object'].index.tolist()\n",
    "\n",
    "    for col in cat_col:\n",
    "        data[col] = data[col].str.lower().str.replace(' ', '_')\n",
    "    return data\n",
    "\n",
    "#Spliting Data\n",
    "def split_data(df):\n",
    "        \n",
    "    full_train_df, full_test_df = train_test_split(df, test_size = 0.2, random_state=1)\n",
    "    full_train_df, full_val_df = train_test_split(full_train_df, test_size = 0.25, random_state=1)\n",
    "\n",
    "    train_data = full_train_df.reset_index(drop = True)\n",
    "    test_data = full_test_df.reset_index(drop = True)\n",
    "    val_data = full_val_df.reset_index(drop = True)\n",
    "\n",
    "    y_train = (train_data['raintomorrow'] == 'yes').astype('int')\n",
    "    y_test = (test_data['raintomorrow'] == 'yes').astype('int')\n",
    "    y_val = (val_data['raintomorrow'] == 'yes').astype('int')\n",
    "\n",
    "    del train_data['raintomorrow']\n",
    "    del test_data['raintomorrow']\n",
    "    del val_data['raintomorrow']\n",
    "\n",
    "    return train_data, val_data,test_data, y_train, y_val, y_test,full_train_df\n",
    "\n",
    "#Encoding Data\n",
    "def encoding(train_data, test_data):\n",
    "    cat_col = train_data.dtypes[train_data.dtypes == 'object'].index.tolist()\n",
    "    num_col = train_data.dtypes[train_data.dtypes == 'float64'].index.tolist()\n",
    "\n",
    "    dv = DictVectorizer(sparse = False)\n",
    "    dv.fit(train_data[cat_col + num_col].to_dict(orient = 'records'))\n",
    "    feature_names = dv.get_feature_names()\n",
    "\n",
    "    X_train = dv.transform(train_data[cat_col + num_col].to_dict(orient = 'records'))\n",
    "    X_test = dv.transform(test_data[cat_col + num_col].to_dict(orient = 'records'))\n",
    "\n",
    "    return X_train,X_test\n",
    "\n",
    "#Defining xgboost model\n",
    "def xg_boost(x_train,y_train,x_test, y_test):\n",
    "\n",
    "    dtrain = xgb.DMatrix(x_train, label = y_train)\n",
    "    dtest = xgb.DMatrix(x_test)\n",
    "\n",
    "    x_params = {\n",
    "    'eta': 0.3,\n",
    "    'max_depth':6,\n",
    "    'min_child_weight':1,\n",
    "\n",
    "    'objective':'binary:logistic',\n",
    "    'eval_metric' : 'map',\n",
    "    \n",
    "    'n_threads':8,\n",
    "    'seed':1,\n",
    "    'verbosity':0\n",
    "    }\n",
    "\n",
    "    model = xgb.train(x_params, dtrain = dtrain,num_boost_round = 25)\n",
    "\n",
    "    pred = model.predict(dtest)\n",
    "    out = (pred >= 0.5).astype('int')\n",
    "    precision = precision_score(y_test,out)\n",
    "    recall = recall_score(y_test, out)\n",
    "    f1 = f1_score(y_test, out)\n",
    "\n",
    "    return (precision,recall,f1)\n",
    "\n",
    "#Data Preparation\n",
    "def data_prep(df):\n",
    "\n",
    "    #filling missing values\n",
    "    df['date'] = pd.to_datetime(df['date'])\n",
    "\n",
    "    num_col = df.dtypes[df.dtypes == 'float64'].index.tolist()\n",
    "    cat_col = df.dtypes[df.dtypes == 'object'].index.tolist()\n",
    "\n",
    "    for col in num_col:\n",
    "            df[col] = df[col].interpolate(method='linear')\n",
    "    for col in num_col:\n",
    "            df[col] = df[col].fillna(df[col].mean())\n",
    "\n",
    "    for col in cat_col:\n",
    "            df[col] = df[col].fillna(df[col].mode()[0])\n",
    "\n",
    "    #feature engineering\n",
    "    df['year'] = pd.DatetimeIndex(df['date']).year\n",
    "    df['month'] = pd.DatetimeIndex(df['date']).month\n",
    "    df['day'] = pd.DatetimeIndex(df['date']).day\n",
    "    df['monthly_bins'] = pd.cut(x = df['month'], bins = [0, 3, 6, 9, 12], labels = ['0 - 3', '3 - 6', '6 - 9', '9 - 12'])\n",
    "    df['temp_diff'] = df['maxtemp'] - df['mintemp']\n",
    "    df.drop(['mintemp', 'date', 'temp3pm','temp_diff', 'maxtemp', 'day'], axis = 1, inplace = True) #Dropping columns\n",
    "\n",
    "    # #feature transformation\n",
    "    df['evaporation'] = np.log1p(df['evaporation']) #log transformation\n",
    "    df['rainfall'] = np.log1p(df['rainfall']) #log transformation\n",
    "\n",
    "    #Transformaing numerical features\n",
    "    train_data, val_data,test_data, y_train, y_val, y_test = split_data(df)[0:6]\n",
    "    cat_col = train_data.dtypes[train_data.dtypes == 'object'].index.tolist()\n",
    "    num_col = train_data.dtypes[train_data.dtypes == 'float64'].index.tolist()\n",
    "    \n",
    "    scaler = StandardScaler()\n",
    "    transformed_xtrain = scaler.fit_transform(train_data[num_col])\n",
    "    transformed_xtest = scaler.transform(test_data[num_col])\n",
    "    transformed_xval  = scaler.transform(val_data[num_col])\n",
    "\n",
    "    train_df = pd.DataFrame(transformed_xtrain, columns = num_col)\n",
    "    val_df = pd.DataFrame(transformed_xval, columns = num_col)\n",
    "    test_df = pd.DataFrame(transformed_xtest, columns = num_col)\n",
    "\n",
    "    train_df = pd.concat([train_df, train_data[cat_col]], axis = 1)\n",
    "    val_df = pd.concat([val_df, val_data[cat_col]], axis = 1)\n",
    "    test_df = pd.concat([test_df, test_data[cat_col]], axis = 1)\n",
    "\n",
    "    train_df.drop(['pressure9am'], axis = 1, inplace = True)\n",
    "    val_df.drop(['pressure9am'], axis = 1, inplace = True)\n",
    "    test_df.drop(['pressure9am'], axis = 1, inplace = True)\n",
    "\n",
    "    full_train_data = pd.concat([train_df, val_df])\n",
    "    full_y_train = pd.concat([y_train, y_val])\n",
    "\n",
    "    return full_train_data,full_y_train, test_df, y_test\n",
    "\n",
    "#oversampling data\n",
    "def data_augm(xtrain, ytrain):\n",
    "        \n",
    "    oversample = SMOTE()\n",
    "    X_train, ytrain = oversample.fit_resample(xtrain, ytrain)\n",
    "    return X_train, ytrain\n",
    "\n",
    "\n",
    "\n",
    "data = load_data('./weatherAUS.csv')  #loading data\n",
    "train_data,y_train, test_data, y_test = data_prep(data) #data preparation\n",
    "X_train,X_test = encoding(train_data, test_data) #data encoding\n",
    "X_train, y_train = data_augm(X_train, y_train) #data augmentation\n",
    "\n",
    "\n",
    "precision, recall, f1score = xg_boost(X_train,y_train,X_test, y_test)\n",
    "print(precision, recall, f1score)"
   ]
  },
  {
   "cell_type": "code",
   "execution_count": null,
   "metadata": {},
   "outputs": [],
   "source": [
    "# data = pd.read_csv(\"C:/Users/Godwin/Downloads/FoodBalanceSheets_E_Africa_NOFLAG.csv\", encoding = 'latin-1')\n",
    "\n",
    "# data.Area.unique()\n",
    "\n",
    "# df = data.groupby('Element')['Y2017'].sum()\n",
    "# df\n",
    "\n",
    "# data.isnull().sum()\n",
    "\n",
    "# (data.isnull().sum()/data.shape[0])*100\n",
    "\n",
    "# data.corr()\n",
    "\n",
    "# my_tuppy = (1,2,5,8)\n",
    "\n",
    "# my_tuppy[2] = 6\n",
    "\n",
    "# data.groupby('Item')\n",
    "\n",
    "# y = [(2, 4), (7, 8), (1, 5, 9)]\n",
    "# print(y[1][1])\n",
    "\n",
    "# data['Y2017'].mean()\n",
    "# data['Y2017'].std()\n",
    "# df = data[['Area', 'Y2017']]\n",
    "# filter = df.index.isin(['Cabo Verde', 'Seychelles', 'Ghana', 'Comoros', 'Guinea-Bissau'])\n",
    "# df.groupby('Area')['Y2017'].sum().sort_values(ascending = True).tail(7)#.where(filter, inplace = True)\n",
    "# data.head()"
   ]
  }
 ],
 "metadata": {
  "kernelspec": {
   "display_name": "Python 3.9.13 ('Tensorflow')",
   "language": "python",
   "name": "python3"
  },
  "language_info": {
   "codemirror_mode": {
    "name": "ipython",
    "version": 3
   },
   "file_extension": ".py",
   "mimetype": "text/x-python",
   "name": "python",
   "nbconvert_exporter": "python",
   "pygments_lexer": "ipython3",
   "version": "3.9.13"
  },
  "orig_nbformat": 4,
  "vscode": {
   "interpreter": {
    "hash": "a2031be23302a6f80daad80b84b83a86f535e1c11907b65b4c4b25f3c409004f"
   }
  }
 },
 "nbformat": 4,
 "nbformat_minor": 2
}
